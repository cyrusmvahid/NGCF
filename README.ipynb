{
 "cells": [
  {
   "cell_type": "markdown",
   "id": "6ebead66",
   "metadata": {},
   "source": [
    "# NGCF\n",
    "## Introduction\n",
    "Collaborative filtering is one of the oldest and most explored methods in recommendation. It created a connection between users, who interact with the system such as users of a video streaming system and items, which is what a system offers such as videos in a video streaming service. Before graphs, user-item relationship was modeled using sparse matrices, where the user-item relationship was represented as a rating score. For instance, a user can give one to five star to a movie. The task of collaborative filtering was to use the known ratings, and predict ratings for unknown rarings.\n",
    "\n",
    "![images/mf.png](images/mf.png)\n",
    "\n",
    "Useful as all variations of collaborative filtering were, they suffered from a series of deficinecies, chief amongst them were handling of very large spare matrices resulting from the fact and loss of collaborative signal.\n",
    "\n",
    "Sparsity results from the facts that each user has only rates a few items from amongst potentially millions of items. Loss of collaborative signal results from the fact that users and items pass through separate embedding layers, thus embedding does not capture user-item interactions. \n",
    "\n",
    "Neural Graph collaborative filtering addresses both issues through modeling user-item relationshsips as a biprtite graph with rating represented as weight of a collaboration.\n",
    "![bipartite](images/bipartiteCF.png)"
   ]
  },
  {
   "cell_type": "markdown",
   "id": "69166ce3",
   "metadata": {},
   "source": []
  },
  {
   "cell_type": "code",
   "execution_count": null,
   "id": "20a9ca79",
   "metadata": {},
   "outputs": [],
   "source": []
  }
 ],
 "metadata": {
  "kernelspec": {
   "display_name": "Python 3 (ipykernel)",
   "language": "python",
   "name": "python3"
  },
  "language_info": {
   "codemirror_mode": {
    "name": "ipython",
    "version": 3
   },
   "file_extension": ".py",
   "mimetype": "text/x-python",
   "name": "python",
   "nbconvert_exporter": "python",
   "pygments_lexer": "ipython3",
   "version": "3.10.9"
  }
 },
 "nbformat": 4,
 "nbformat_minor": 5
}
